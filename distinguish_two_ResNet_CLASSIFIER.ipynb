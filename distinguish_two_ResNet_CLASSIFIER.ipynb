{
  "cells": [
    {
      "cell_type": "code",
      "execution_count": null,
      "metadata": {
        "colab": {
          "base_uri": "https://localhost:8080/"
        },
        "id": "GHUa7VAMV_rY",
        "outputId": "d9c4dce7-839b-45a3-a850-2dddb7c0eefb"
      },
      "outputs": [
        {
          "output_type": "stream",
          "name": "stdout",
          "text": [
            "Looking in indexes: https://pypi.org/simple, https://us-python.pkg.dev/colab-wheels/public/simple/\n",
            "Collecting audiomentations\n",
            "  Downloading audiomentations-0.29.0-py3-none-any.whl (66 kB)\n",
            "\u001b[2K     \u001b[90m━━━━━━━━━━━━━━━━━━━━━━━━━━━━━━━━━━━━━━━━\u001b[0m \u001b[32m66.1/66.1 KB\u001b[0m \u001b[31m1.5 MB/s\u001b[0m eta \u001b[36m0:00:00\u001b[0m\n",
            "\u001b[?25hRequirement already satisfied: scipy<2,>=1.0.0 in /usr/local/lib/python3.9/dist-packages (from audiomentations) (1.10.1)\n",
            "Requirement already satisfied: librosa<0.10.0,>0.7.2 in /usr/local/lib/python3.9/dist-packages (from audiomentations) (0.8.1)\n",
            "Requirement already satisfied: numpy>=1.13.0 in /usr/local/lib/python3.9/dist-packages (from audiomentations) (1.22.4)\n",
            "Requirement already satisfied: joblib>=0.14 in /usr/local/lib/python3.9/dist-packages (from librosa<0.10.0,>0.7.2->audiomentations) (1.1.1)\n",
            "Requirement already satisfied: scikit-learn!=0.19.0,>=0.14.0 in /usr/local/lib/python3.9/dist-packages (from librosa<0.10.0,>0.7.2->audiomentations) (1.2.2)\n",
            "Requirement already satisfied: audioread>=2.0.0 in /usr/local/lib/python3.9/dist-packages (from librosa<0.10.0,>0.7.2->audiomentations) (3.0.0)\n",
            "Requirement already satisfied: resampy>=0.2.2 in /usr/local/lib/python3.9/dist-packages (from librosa<0.10.0,>0.7.2->audiomentations) (0.4.2)\n",
            "Requirement already satisfied: decorator>=3.0.0 in /usr/local/lib/python3.9/dist-packages (from librosa<0.10.0,>0.7.2->audiomentations) (4.4.2)\n",
            "Requirement already satisfied: pooch>=1.0 in /usr/local/lib/python3.9/dist-packages (from librosa<0.10.0,>0.7.2->audiomentations) (1.7.0)\n",
            "Requirement already satisfied: packaging>=20.0 in /usr/local/lib/python3.9/dist-packages (from librosa<0.10.0,>0.7.2->audiomentations) (23.0)\n",
            "Requirement already satisfied: soundfile>=0.10.2 in /usr/local/lib/python3.9/dist-packages (from librosa<0.10.0,>0.7.2->audiomentations) (0.12.1)\n",
            "Requirement already satisfied: numba>=0.43.0 in /usr/local/lib/python3.9/dist-packages (from librosa<0.10.0,>0.7.2->audiomentations) (0.56.4)\n",
            "Requirement already satisfied: llvmlite<0.40,>=0.39.0dev0 in /usr/local/lib/python3.9/dist-packages (from numba>=0.43.0->librosa<0.10.0,>0.7.2->audiomentations) (0.39.1)\n",
            "Requirement already satisfied: setuptools in /usr/local/lib/python3.9/dist-packages (from numba>=0.43.0->librosa<0.10.0,>0.7.2->audiomentations) (63.4.3)\n",
            "Requirement already satisfied: requests>=2.19.0 in /usr/local/lib/python3.9/dist-packages (from pooch>=1.0->librosa<0.10.0,>0.7.2->audiomentations) (2.25.1)\n",
            "Requirement already satisfied: platformdirs>=2.5.0 in /usr/local/lib/python3.9/dist-packages (from pooch>=1.0->librosa<0.10.0,>0.7.2->audiomentations) (3.1.1)\n",
            "Requirement already satisfied: threadpoolctl>=2.0.0 in /usr/local/lib/python3.9/dist-packages (from scikit-learn!=0.19.0,>=0.14.0->librosa<0.10.0,>0.7.2->audiomentations) (3.1.0)\n",
            "Requirement already satisfied: cffi>=1.0 in /usr/local/lib/python3.9/dist-packages (from soundfile>=0.10.2->librosa<0.10.0,>0.7.2->audiomentations) (1.15.1)\n",
            "Requirement already satisfied: pycparser in /usr/local/lib/python3.9/dist-packages (from cffi>=1.0->soundfile>=0.10.2->librosa<0.10.0,>0.7.2->audiomentations) (2.21)\n",
            "Requirement already satisfied: idna<3,>=2.5 in /usr/local/lib/python3.9/dist-packages (from requests>=2.19.0->pooch>=1.0->librosa<0.10.0,>0.7.2->audiomentations) (2.10)\n",
            "Requirement already satisfied: urllib3<1.27,>=1.21.1 in /usr/local/lib/python3.9/dist-packages (from requests>=2.19.0->pooch>=1.0->librosa<0.10.0,>0.7.2->audiomentations) (1.26.15)\n",
            "Requirement already satisfied: certifi>=2017.4.17 in /usr/local/lib/python3.9/dist-packages (from requests>=2.19.0->pooch>=1.0->librosa<0.10.0,>0.7.2->audiomentations) (2022.12.7)\n",
            "Requirement already satisfied: chardet<5,>=3.0.2 in /usr/local/lib/python3.9/dist-packages (from requests>=2.19.0->pooch>=1.0->librosa<0.10.0,>0.7.2->audiomentations) (4.0.0)\n",
            "Installing collected packages: audiomentations\n",
            "Successfully installed audiomentations-0.29.0\n",
            "Looking in indexes: https://pypi.org/simple, https://us-python.pkg.dev/colab-wheels/public/simple/\n",
            "Requirement already satisfied: librosa in /usr/local/lib/python3.9/dist-packages (0.8.1)\n",
            "Requirement already satisfied: pooch>=1.0 in /usr/local/lib/python3.9/dist-packages (from librosa) (1.7.0)\n",
            "Requirement already satisfied: joblib>=0.14 in /usr/local/lib/python3.9/dist-packages (from librosa) (1.1.1)\n",
            "Requirement already satisfied: audioread>=2.0.0 in /usr/local/lib/python3.9/dist-packages (from librosa) (3.0.0)\n",
            "Requirement already satisfied: scipy>=1.0.0 in /usr/local/lib/python3.9/dist-packages (from librosa) (1.10.1)\n",
            "Requirement already satisfied: decorator>=3.0.0 in /usr/local/lib/python3.9/dist-packages (from librosa) (4.4.2)\n",
            "Requirement already satisfied: numpy>=1.15.0 in /usr/local/lib/python3.9/dist-packages (from librosa) (1.22.4)\n",
            "Requirement already satisfied: resampy>=0.2.2 in /usr/local/lib/python3.9/dist-packages (from librosa) (0.4.2)\n",
            "Requirement already satisfied: packaging>=20.0 in /usr/local/lib/python3.9/dist-packages (from librosa) (23.0)\n",
            "Requirement already satisfied: scikit-learn!=0.19.0,>=0.14.0 in /usr/local/lib/python3.9/dist-packages (from librosa) (1.2.2)\n",
            "Requirement already satisfied: numba>=0.43.0 in /usr/local/lib/python3.9/dist-packages (from librosa) (0.56.4)\n",
            "Requirement already satisfied: soundfile>=0.10.2 in /usr/local/lib/python3.9/dist-packages (from librosa) (0.12.1)\n",
            "Requirement already satisfied: llvmlite<0.40,>=0.39.0dev0 in /usr/local/lib/python3.9/dist-packages (from numba>=0.43.0->librosa) (0.39.1)\n",
            "Requirement already satisfied: setuptools in /usr/local/lib/python3.9/dist-packages (from numba>=0.43.0->librosa) (63.4.3)\n",
            "Requirement already satisfied: requests>=2.19.0 in /usr/local/lib/python3.9/dist-packages (from pooch>=1.0->librosa) (2.25.1)\n",
            "Requirement already satisfied: platformdirs>=2.5.0 in /usr/local/lib/python3.9/dist-packages (from pooch>=1.0->librosa) (3.1.1)\n",
            "Requirement already satisfied: threadpoolctl>=2.0.0 in /usr/local/lib/python3.9/dist-packages (from scikit-learn!=0.19.0,>=0.14.0->librosa) (3.1.0)\n",
            "Requirement already satisfied: cffi>=1.0 in /usr/local/lib/python3.9/dist-packages (from soundfile>=0.10.2->librosa) (1.15.1)\n",
            "Requirement already satisfied: pycparser in /usr/local/lib/python3.9/dist-packages (from cffi>=1.0->soundfile>=0.10.2->librosa) (2.21)\n",
            "Requirement already satisfied: idna<3,>=2.5 in /usr/local/lib/python3.9/dist-packages (from requests>=2.19.0->pooch>=1.0->librosa) (2.10)\n",
            "Requirement already satisfied: urllib3<1.27,>=1.21.1 in /usr/local/lib/python3.9/dist-packages (from requests>=2.19.0->pooch>=1.0->librosa) (1.26.15)\n",
            "Requirement already satisfied: chardet<5,>=3.0.2 in /usr/local/lib/python3.9/dist-packages (from requests>=2.19.0->pooch>=1.0->librosa) (4.0.0)\n",
            "Requirement already satisfied: certifi>=2017.4.17 in /usr/local/lib/python3.9/dist-packages (from requests>=2.19.0->pooch>=1.0->librosa) (2022.12.7)\n",
            "Looking in indexes: https://pypi.org/simple, https://us-python.pkg.dev/colab-wheels/public/simple/\n",
            "Requirement already satisfied: numba in /usr/local/lib/python3.9/dist-packages (0.56.4)\n",
            "Requirement already satisfied: llvmlite<0.40,>=0.39.0dev0 in /usr/local/lib/python3.9/dist-packages (from numba) (0.39.1)\n",
            "Requirement already satisfied: numpy<1.24,>=1.18 in /usr/local/lib/python3.9/dist-packages (from numba) (1.22.4)\n",
            "Requirement already satisfied: setuptools in /usr/local/lib/python3.9/dist-packages (from numba) (63.4.3)\n"
          ]
        }
      ],
      "source": [
        "!pip install audiomentations\n",
        "! pip install librosa\n",
        "!pip install numba"
      ]
    },
    {
      "cell_type": "code",
      "execution_count": null,
      "metadata": {
        "id": "IqHhgujTqnFA"
      },
      "outputs": [],
      "source": [
        "import numpy as np\n",
        "import torch\n",
        "import torch.nn as nn\n",
        "from torchvision import datasets\n",
        "from torchvision import transforms\n",
        "import os\n",
        "\n",
        "from torch.utils.data.sampler import SubsetRandomSampler\n",
        "\n",
        "\n",
        "# Device configuration\n",
        "device = torch.device('cuda' if torch.cuda.is_available() else 'cpu')\n",
        "#output_size = (input_size - kernel_size + 2*padding) / stride + 1"
      ]
    },
    {
      "cell_type": "code",
      "execution_count": null,
      "metadata": {
        "id": "6YO689K2IkcY",
        "colab": {
          "base_uri": "https://localhost:8080/"
        },
        "outputId": "81f43282-1cb5-4235-8d7f-9a4ff5da2f12"
      },
      "outputs": [
        {
          "output_type": "stream",
          "name": "stdout",
          "text": [
            "Mounted at /content/drive\n"
          ]
        }
      ],
      "source": [
        "from google.colab import drive\n",
        "\n",
        "drive.mount('/content/drive', force_remount=True)\n",
        ""
      ]
    },
    {
      "cell_type": "code",
      "execution_count": null,
      "metadata": {
        "id": "4bayjnVRLoxj",
        "colab": {
          "base_uri": "https://localhost:8080/"
        },
        "outputId": "348c593c-6815-438a-8e19-4ba1c1a16df5"
      },
      "outputs": [
        {
          "output_type": "stream",
          "name": "stdout",
          "text": [
            "/content/drive/MyDrive/CS472/FinalTesting/DataSets\n"
          ]
        }
      ],
      "source": [
        "!cd drive/MyDrive/CS472/FinalTesting/DataSets && pwd"
      ]
    },
    {
      "cell_type": "code",
      "execution_count": null,
      "metadata": {
        "id": "bxv5ao-eOcpe",
        "colab": {
          "base_uri": "https://localhost:8080/"
        },
        "outputId": "2d566fd9-0a19-4204-9f59-6f93970803b0"
      },
      "outputs": [
        {
          "output_type": "stream",
          "name": "stdout",
          "text": [
            "/bin/bash: line 0: cd: path: No such file or directory\n"
          ]
        },
        {
          "output_type": "execute_result",
          "data": {
            "text/plain": [
              "['IRMAS-TrainingData']"
            ]
          },
          "metadata": {},
          "execution_count": 5
        }
      ],
      "source": [
        "path = '/content/drive/MyDrive/CS472/FinalTesting/DataSets'\n",
        "\n",
        "!cd path && ls\n",
        "\n",
        "os.chdir(path)\n",
        "os.listdir()"
      ]
    },
    {
      "cell_type": "code",
      "execution_count": null,
      "metadata": {
        "id": "Q2pRDnhpqxk9"
      },
      "outputs": [],
      "source": [
        "# #this allowed me to download dataset directly to google drive\n",
        "\n",
        "# !cd /content/drive/MyDrive/CS472/FinalTesting/DataSets && wget https://zenodo.org/record/1290750/files/IRMAS-TrainingData.zip?download=1\n",
        "# !cd /content/drive/MyDrive/CS472/FinalTesting/DataSets && mv 'IRMAS-TrainingData.zip?download=1' IRMAS-TrainingData.zip && unzip IRMAS-TrainingData.zip && rm -r IRMAS-TrainingData.zip\n"
      ]
    },
    {
      "cell_type": "code",
      "execution_count": null,
      "metadata": {
        "id": "wX9PXgbuBDNG",
        "colab": {
          "base_uri": "https://localhost:8080/"
        },
        "outputId": "5a8709ef-1862-44b8-cf6d-2f2c914eaab6"
      },
      "outputs": [
        {
          "output_type": "stream",
          "name": "stdout",
          "text": [
            "/content/drive/MyDrive/CS472/FinalTesting/DataSets\n"
          ]
        }
      ],
      "source": [
        "! pwd"
      ]
    },
    {
      "cell_type": "code",
      "execution_count": null,
      "metadata": {
        "id": "UzLJGmn_4WOK",
        "colab": {
          "base_uri": "https://localhost:8080/"
        },
        "outputId": "5c1b3ff3-5feb-4bc1-84a1-7b1c406e6c70"
      },
      "outputs": [
        {
          "output_type": "stream",
          "name": "stdout",
          "text": [
            "IRMAS-TrainingData\n"
          ]
        }
      ],
      "source": [
        "!ls"
      ]
    },
    {
      "cell_type": "code",
      "execution_count": null,
      "metadata": {
        "id": "RiDZQiPDlgSI"
      },
      "outputs": [],
      "source": [
        "class Cycler:\n",
        "    def __init__(self):\n",
        "      self.c = []\n",
        "      self.i = 0\n",
        "\n",
        "\n",
        "    def fromList(self, c_list):\n",
        "        self.c = c_list\n",
        "        self.i = 0\n",
        "\n",
        "    def next(self):\n",
        "      if len(self.c) <= self.i:\n",
        "        return None\n",
        "      else:\n",
        "        item = self.c[self.i]\n",
        "        self.i += 1\n",
        "        return item\n",
        "\n",
        "    def skip(self, num):\n",
        "      self.i += num\n",
        "\n",
        "    def reset(self):\n",
        "      self.i = 0\n",
        "\n",
        "    def __getitem__(self, idx):\n",
        "      return self.c[idx]\n",
        "\n",
        "    def __len__(self):\n",
        "      return len(self.c)\n",
        "\n",
        "\n",
        "    def toList(self):\n",
        "        return self.c\n",
        "\n"
      ]
    },
    {
      "cell_type": "code",
      "execution_count": null,
      "metadata": {
        "id": "rv0cNxxGDcCF"
      },
      "outputs": [],
      "source": [
        "from re import I\n",
        "from pathlib import Path\n",
        "from torch.utils.data import Dataset, DataLoader\n",
        "import librosa\n",
        "import math\n",
        "import random\n",
        "import audiomentations as A\n",
        "import wave\n",
        "import torch.nn.functional as F\n",
        "\n",
        "import librosa\n",
        "import librosa.display\n",
        "import matplotlib.pyplot as plt\n",
        "\n",
        "\n",
        "from scipy.io import wavfile as wav\n",
        "\n",
        "\n",
        "\n",
        "\n",
        "class IRMASDataset(Dataset):\n",
        "    def __init__(self, root_dir, included_labels = [], segment_percent= .1, train_percentage= .8, noise_percentage= .1, use_random=True):\n",
        "        self.root_dir = root_dir\n",
        "        self.use_random = use_random #this won't work if its not random 155\n",
        "\n",
        "        self.included_labels = included_labels\n",
        "\n",
        "        # shift will acquire the number of splits for audio file\n",
        "        self.shift = int(1/ segment_percent) # also num_features\n",
        "        self.segment_percent = segment_percent\n",
        "        self.num_features = 30\n",
        "\n",
        "        # datastructures\n",
        "        self.file_list = []\n",
        "        self.instrument_dict = {}\n",
        "        self.train_data_dict = {}\n",
        "        self.val_data_dict = {}\n",
        "        self.test_data_dict = {}\n",
        "        self.val_seg_list = []\n",
        "        self.test_seg_list = []\n",
        "        self.train_seg_list = []\n",
        "\n",
        "        self.first_file = None\n",
        "\n",
        "        #Information for dataloader partitioning\n",
        "        self.val_percentage = .2 * train_percentage #change this to increase validation percentage\n",
        "        self.train_percentage = train_percentage - (self.val_percentage)# change this to change everything else\n",
        "        self.test_percentage = 1 - train_percentage\n",
        "\n",
        "        #Noise augmentation\n",
        "        self.noise_aug = A.Compose([A.AddGaussianSNR(p=noise_percentage,\n",
        "                                              min_snr_in_db=10,\n",
        "                                              max_snr_in_db=20)])\n",
        "        #initialization functions\n",
        "        self.initialize_data_structs()\n",
        "        self.separate_train_test()\n",
        "\n",
        "        #data structures/values that need to be initialized after above functions\n",
        "        self.val_cut_off = int(len(self.file_list) * self.train_percentage)\n",
        "        self.train_cut_off = self.val_cut_off - int(self.val_cut_off * .2)\n",
        "\n",
        "    def initialize_data_structs(self):\n",
        "        instrument_dict = {}\n",
        "        i = 0\n",
        "        for root, dirs, files in os.walk(self.root_dir):\n",
        "            for file in files:\n",
        "                if file.endswith('.wav'):\n",
        "                    file_name = os.path.join(root, file)\n",
        "                    parent_dir = Path(file_name).parent.name\n",
        "                    if parent_dir not in self.instrument_dict and parent_dir in self.included_labels:\n",
        "                        self.instrument_dict[parent_dir] = i\n",
        "                        i += 1\n",
        "                        self.train_data_dict[parent_dir] = []\n",
        "                        self.train_data_dict[parent_dir].append(file_name); self.file_list.append(file_name)\n",
        "                    elif parent_dir in self.instrument_dict:\n",
        "                        self.train_data_dict[parent_dir].append(file_name); self.file_list.append(file_name)\n",
        "        if self.use_random:\n",
        "          for instrument in self.train_data_dict:\n",
        "            random.shuffle(self.train_data_dict[instrument])\n",
        "          random.shuffle(self.file_list)\n",
        "\n",
        "    def separate_train_test(self):\n",
        "        for instrument in self.train_data_dict:\n",
        "          train_cut_off = int(len(self.train_data_dict[instrument]) * self.train_percentage)\n",
        "          val_cut_off = int(len(self.train_data_dict[instrument]) * self.val_percentage) + train_cut_off\n",
        "          q1 = Cycler(); q1.fromList(self.train_data_dict[instrument][:train_cut_off])\n",
        "          q2 = Cycler(); q2.fromList(self.train_data_dict[instrument][train_cut_off + 1:val_cut_off])\n",
        "          q3 = Cycler(); q3.fromList(self.train_data_dict[instrument][val_cut_off +1:])\n",
        "          self.train_data_dict[instrument] = q1\n",
        "          self.val_data_dict[instrument] = q2\n",
        "          self.test_data_dict[instrument] = q3\n",
        "\n",
        "    def get_segment_list(self, target_dict):\n",
        "        segment_list = []\n",
        "        for instrument in target_dict:\n",
        "            file_name = target_dict[instrument].next()\n",
        "            if file_name == None:\n",
        "                continue\n",
        "            if self.first_file == None:\n",
        "                self.first_file = file_name\n",
        "            label = torch.tensor(self.instrument_dict[instrument])\n",
        "            audio, sr = librosa.load(file_name, sr=None)\n",
        "            #augmented = self.noise_aug(audio)\n",
        "            #audio = augmented['audio']\n",
        "            mfcc = librosa.feature.mfcc(audio, sr=sr, n_mfcc=self.num_features)\n",
        "            mfcc = (mfcc - np.mean(mfcc)) / np.std(mfcc)\n",
        "            frame_length = int(260 * self.segment_percent)  # number of frames per chunk\n",
        "            num_frames = mfcc.shape[1]\n",
        "            num_chunks = int(np.ceil(num_frames / frame_length))\n",
        "            mfcc_frames = np.zeros((num_chunks, self.num_features, frame_length))\n",
        "            for i in range(num_chunks):\n",
        "                start = i * frame_length\n",
        "                end = min(num_frames, start + frame_length)\n",
        "                mfcc_frames[i, :, :end-start] = mfcc[:, start:end]\n",
        "            mfcc_frames_tensor = torch.tensor(mfcc_frames, dtype=torch.float32)\n",
        "            for frame in mfcc_frames_tensor:\n",
        "                segment = frame.clone().detach().float().unsqueeze(0)\n",
        "                segment_list.append( (segment, label) )\n",
        "\n",
        "        random.shuffle(segment_list)\n",
        "        if len(segment_list) == 0:\n",
        "            self.reset_cycles(target_dict)\n",
        "            return self.get_segment_list(target_dict)\n",
        "        return segment_list\n",
        "\n",
        "    def get_first_file(self):\n",
        "      return self.first_file\n",
        "\n",
        "    def reset_cycles(self, target_dict):\n",
        "      for instrument in target_dict:\n",
        "        target_dict[instrument].reset()\n",
        "\n",
        "\n",
        "    def full_reset(self):\n",
        "      self.train_seg_list.clear()\n",
        "      self.val_seg_list.clear()\n",
        "      self.test_seg_list.clear()\n",
        "      self.reset_cycles(self.train_data_dict)\n",
        "      self.reset_cycles(self.val_data_dict)\n",
        "      self.reset_cycles(self.test_data_dict)\n",
        "\n",
        "\n",
        "    def __getitem__(self, idx):\n",
        "        idx = idx // self.shift\n",
        "        if idx <= self.train_cut_off:\n",
        "          if len(self.train_seg_list) == 0:\n",
        "            self.train_seg_list = self.get_segment_list(self.train_data_dict)\n",
        "          mfcc_tensor, label_tensor = self.train_seg_list.pop()\n",
        "          return mfcc_tensor, label_tensor\n",
        "        elif idx > self.train_cut_off and idx <= self.val_cut_off:\n",
        "          if len(self.val_seg_list) == 0:\n",
        "            self.val_seg_list = self.get_segment_list(self.val_data_dict)\n",
        "          mfcc_tensor, label_tensor = self.val_seg_list.pop()\n",
        "          return mfcc_tensor, label_tensor\n",
        "        else:\n",
        "          if len(self.test_seg_list) == 0:\n",
        "            self.test_seg_list = self.get_segment_list(self.test_data_dict)\n",
        "          mfcc_tensor, label_tensor = self.test_seg_list.pop()\n",
        "          return mfcc_tensor, label_tensor\n",
        "\n",
        "\n",
        "    def __len__(self):\n",
        "      return len(self.file_list) * self.shift\n",
        "\n",
        "    def increment_cycles(self, splits):\n",
        "      for inst in self.train_data_dict:\n",
        "        increment = len(self.train_data_dict[inst]) // splits\n",
        "        self.train_data_dict[inst].skip(increment)\n",
        "      for inst in self.val_data_dict:\n",
        "        increment = len(self.val_data_dict[inst]) // splits\n",
        "        self.val_data_dict[inst].skip(increment)\n",
        "      for inst in self.test_data_dict:\n",
        "        increment = len(self.test_data_dict[inst]) // splits\n",
        "        self.test_data_dict[inst].skip(increment)\n",
        "\n",
        "    def get_label(self, filename):\n",
        "        return self.instrument_dict[Path(filename).parent.name]\n",
        "\n",
        "    def get_number_of_labels(self):\n",
        "      return len(self.instrument_dict)\n",
        "\n",
        "labels = [\"sax\", \"tru\", \"vio\", \"voi\", \"cel\", \"cla\", \"flu\", \"gac\", \"gel\", \"org\", \"pia\"]\n",
        "\n",
        "IRMAS_ds = IRMASDataset(\"IRMAS-TrainingData\", included_labels= labels)\n",
        "\n"
      ]
    },
    {
      "cell_type": "code",
      "execution_count": null,
      "metadata": {
        "id": "j6gy9VlW5zYN"
      },
      "outputs": [],
      "source": [
        "# # used to combine\n",
        "def collate_fn(batch):\n",
        "  inputs, targets = zip(*batch) #separtes data and target tensors into separate lists. Target tensors are the labels\n",
        "  inputs_padded = torch.nn.utils.rnn.pad_sequence(inputs, batch_first=True) #padd the batches with zero if they are not filled\n",
        "  targets_padded = torch.stack(targets) #padds the targets with 0's until it is filled\n",
        "  return inputs_padded, targets_padded"
      ]
    },
    {
      "cell_type": "code",
      "execution_count": null,
      "metadata": {
        "id": "s-BfK95_z2cl"
      },
      "outputs": [],
      "source": [
        "from torch.utils.data import DataLoader, SubsetRandomSampler\n",
        "\n",
        "import copy\n",
        "\n",
        "torch.manual_seed(42)\n",
        "\n",
        "\n",
        "def split_samples(dataset, num_splits=10, batch_size = 256, num_workers= 2):\n",
        "  num_files = len(dataset)\n",
        "  dataset.full_reset()\n",
        "\n",
        "  dataset_copies = []\n",
        "  train_dsLoader_list = []\n",
        "  val_dsLoader_list = []\n",
        "  test_dsLoader_list = []\n",
        "  train_percentage = dataset.train_percentage\n",
        "  val_percentage = dataset.val_percentage\n",
        "  test_percentage = dataset.test_percentage\n",
        "\n",
        "  train_start = 0\n",
        "  val_start = dataset.train_cut_off * dataset.shift\n",
        "  test_start = dataset.val_cut_off * dataset.shift\n",
        "\n",
        "  train_increment = int(train_percentage* num_files // num_splits)\n",
        "  val_increment = int(val_percentage * num_files // num_splits)\n",
        "  test_increment = int(test_percentage * num_files // num_splits)\n",
        "\n",
        "  train_prev = train_start\n",
        "  val_prev = val_start\n",
        "  test_prev = test_start\n",
        "\n",
        "  train_next = train_prev + train_increment\n",
        "  val_next = val_prev + val_increment\n",
        "  test_next = test_prev + test_increment\n",
        "  print(f\"split {num_files} inputs by {num_splits} splits: train size= {train_increment}, validation size= {val_increment}, test size= {test_increment}\")\n",
        "  skip_len = 0\n",
        "  current_dataset = copy.deepcopy(dataset)\n",
        "  for i in range(num_splits):\n",
        "    train_dsLoader_list.append( DataLoader(current_dataset,\n",
        "                                           num_workers=num_workers,\n",
        "                                           batch_size= batch_size,\n",
        "                                           sampler= SubsetRandomSampler(range(train_prev, train_next)),\n",
        "                                           collate_fn= collate_fn\n",
        "                                           ) )\n",
        "    train_prev = train_next + 1\n",
        "    train_next += train_increment\n",
        "    val_dsLoader_list.append(DataLoader(current_dataset,\n",
        "                                        num_workers=num_workers,\n",
        "                                        batch_size= batch_size,\n",
        "                                        sampler= SubsetRandomSampler(range(val_prev, val_next)),\n",
        "                                        collate_fn= collate_fn\n",
        "                                        ) )\n",
        "    val_prev = val_next + 1\n",
        "    val_next += val_increment\n",
        "    test_dsLoader_list.append( DataLoader(current_dataset,\n",
        "                                          num_workers=num_workers,\n",
        "                                          batch_size= batch_size,\n",
        "                                          sampler= SubsetRandomSampler(range(test_prev, test_next)),\n",
        "                                          collate_fn= collate_fn\n",
        "                                          ) )\n",
        "    test_prev = test_next + 1\n",
        "    test_next += test_increment\n",
        "    dataset_copies.append(current_dataset)\n",
        "    current_dataset = copy.deepcopy(current_dataset)\n",
        "    current_dataset.increment_cycles(num_splits)\n",
        "\n",
        "  return train_dsLoader_list, val_dsLoader_list, test_dsLoader_list, dataset_copies\n",
        "\n"
      ]
    },
    {
      "cell_type": "code",
      "execution_count": null,
      "metadata": {
        "id": "R0E5f2k-z92Q",
        "colab": {
          "base_uri": "https://localhost:8080/"
        },
        "outputId": "d4b9dcd4-9c7d-412d-c13d-7afc4dab4ad2"
      },
      "outputs": [
        {
          "output_type": "stream",
          "name": "stdout",
          "text": [
            "split 67050 inputs by 1 splits: train size= 42912, validation size= 10728, test size= 13409\n"
          ]
        }
      ],
      "source": [
        "from typing_extensions import dataclass_transform\n",
        "batch_size = 512\n",
        "train_dsLoader_list, val_dsLoader_list, test_dsLoader_list, dataset_copies = split_samples(IRMAS_ds, num_splits = 1, batch_size= batch_size) #dataset, num_workers =2, num_splits, batch_size = 2\n",
        "\n",
        "\n",
        "# data, label = next(iter(train_dsLoader_list[0]))\n",
        "# data1, label1 = next(iter(train_dsLoader_list[5]))\n",
        "# print(data[0][0][30])\n",
        "# print(data1[0][0][30])\n",
        "\n",
        "\n"
      ]
    },
    {
      "cell_type": "markdown",
      "metadata": {
        "id": "YTkD1S5z1LrQ"
      },
      "source": [
        "Test to show the data sets are not equal, each time it a dataloader\n",
        "is called it copies the current dataset state it is assigned to by\n",
        "making copies it refers to the state of the copy.\n",
        "\n",
        "Copy of output:\n",
        "\n",
        "tensor([0.1227, 0.0205, 0.0053, 0.1575, 0.1030, 0.0833, 0.1713, 0.1905, 0.1395, 0.1874, 0.1687, 0.0704, 0.0523])\n",
        "\n",
        "tensor([-0.4809, -0.5016, -0.5025, -0.4433, -0.3915, -0.3718, -0.2472, -0.2602, -0.2802, -0.2363, -0.1246, -0.1997, -0.1865])"
      ]
    },
    {
      "cell_type": "code",
      "execution_count": null,
      "metadata": {
        "id": "V8Idr1frfj2D",
        "colab": {
          "base_uri": "https://localhost:8080/"
        },
        "outputId": "6d3dfa23-09bd-4d9f-dd11-370c5b656a94"
      },
      "outputs": [
        {
          "output_type": "stream",
          "name": "stdout",
          "text": [
            "Number of instruments: 4\n",
            "\n",
            "Shape of output: torch.Size([1, 30, 26]) \n",
            "\n",
            "Number of wave files: 640\n",
            "\n",
            "Train keys:  sax:400 tru:369 vio:371 voi:497\n",
            "\n",
            "Val keys:  sax:99 tru:91 vio:91 voi:123\n",
            "\n",
            "Test keys:  sax:125  tru:115  vio:116  voi:156 \n"
          ]
        }
      ],
      "source": [
        "sample_idx = 0 # index of the sample to retrieve\n",
        "print(f\"Number of instruments: {len(IRMAS_ds.instrument_dict)}\\n\")\n",
        "#print(IRMAS_ds.data_dict.keys())\n",
        "print(f\"Shape of output: {IRMAS_ds[0][0].shape} \\n\")  #torch.Size([1, 50, 13])\n",
        "print(f\"Number of wave files: {len(IRMAS_ds) // 40}\\n\")\n",
        "\n",
        "#if you set segment_percentage to .1 the resulting shape will be 26 by 26.\n",
        "\n",
        "\n",
        "train_keys = \"Train keys: \"\n",
        "for key in IRMAS_ds.train_data_dict:\n",
        "  train_keys += (f\" {key}:{len(IRMAS_ds.train_data_dict[key])}\")\n",
        "print(train_keys)\n",
        "\n",
        "val_keys = \"\\nVal keys: \"\n",
        "for key in IRMAS_ds.train_data_dict:\n",
        "  val_keys += (f\" {key}:{len(IRMAS_ds.val_data_dict[key])}\")\n",
        "print(val_keys)\n",
        "\n",
        "test_keys = \"\\nTest keys: \"\n",
        "for key in IRMAS_ds.test_data_dict:\n",
        "  test_keys += f\" {key}:{len(IRMAS_ds.test_data_dict[key])} \"\n",
        "print(test_keys)\n",
        "\n",
        "\n"
      ]
    },
    {
      "cell_type": "code",
      "execution_count": null,
      "metadata": {
        "id": "kqBa_lJzWDLd",
        "colab": {
          "base_uri": "https://localhost:8080/",
          "height": 1000
        },
        "outputId": "bbf34e69-7049-4ca1-ca67-15a2c861bf21"
      },
      "outputs": [
        {
          "output_type": "display_data",
          "data": {
            "text/plain": [
              "<Figure size 1008x360 with 1 Axes>"
            ],
            "image/png": "[encoded data removed]"
          },
          "metadata": {
            "needs_background": "light"
          }
        },
        {
          "output_type": "stream",
          "name": "stdout",
          "text": [
            "     View of Working SpectroGram\n",
            "tensor(2)\n",
            "torch.Size([1, 30, 26])\n"
          ]
        },
        {
          "output_type": "display_data",
          "data": {
            "text/plain": [
              "<Figure size 432x288 with 2 Axes>"
            ],
            "image/png": "[encoded data removed]"
          },
          "metadata": {
            "needs_background": "light"
          }
        },
        {
          "output_type": "stream",
          "name": "stdout",
          "text": [
            "\n",
            "   View of full spectroGram\n"
          ]
        },
        {
          "output_type": "stream",
          "name": "stderr",
          "text": [
            "/usr/local/lib/python3.9/dist-packages/torchaudio/functional/functional.py:571: UserWarning: At least one mel filterbank has all zero values. The value for `n_mels` (256) may be set too high. Or, the value for `n_freqs` (1025) may be set too low.\n",
            "  warnings.warn(\n"
          ]
        },
        {
          "output_type": "display_data",
          "data": {
            "text/plain": [
              "<Figure size 432x288 with 2 Axes>"
            ],
            "image/png": "[encoded data removed]"
          },
          "metadata": {
            "needs_background": "light"
          }
        }
      ],
      "source": [
        "import librosa\n",
        "import librosa.display\n",
        "import matplotlib.pyplot as plt\n",
        "import random\n",
        "\n",
        "import torchaudio\n",
        "import torchaudio.transforms as T\n",
        "\n",
        "\n",
        "# load audio file\n",
        "audio, sr = librosa.load(IRMAS_ds.file_list[random.randint(0, len(IRMAS_ds.file_list) - 1)])\n",
        "\n",
        "# plot waveform\n",
        "plt.figure(figsize=(14, 5))\n",
        "librosa.display.waveplot(audio, sr=sr)\n",
        "plt.xlabel('Time (seconds)')\n",
        "plt.ylabel('Amplitude')\n",
        "plt.title('Waveform plot')\n",
        "plt.show()\n",
        "\n",
        "\n",
        "def plot_spectrogram(spec, title=None, ylabel='freq_bin', aspect='auto', xmax=None):\n",
        "  fig, axs = plt.subplots(1, 1)\n",
        "  axs.set_title(title or 'Spectrogram (db)')\n",
        "  axs.set_ylabel(ylabel)\n",
        "  axs.set_xlabel('frame')\n",
        "  im = axs.imshow(librosa.power_to_db(spec), origin='lower', aspect=aspect)\n",
        "  if xmax:\n",
        "    axs.set_xlim((0, xmax))\n",
        "  fig.colorbar(im, ax=axs)\n",
        "  plt.show(block=False)\n",
        "\n",
        "\n",
        "def get_wf_sr(file_name):\n",
        "    effects = [[\"remix\", \"1\"]]\n",
        "    return torchaudio.sox_effects.apply_effects_file(file_name, effects=effects)\n",
        "\n",
        "\n",
        "def convert_waveform_to_mfcc(waveform, sr):\n",
        "    n_fft = 2048\n",
        "    win_length = None\n",
        "    hop_length = 512\n",
        "    n_mels = 256\n",
        "    n_mfcc = 128\n",
        "    mfcc_transform = T.MFCC(\n",
        "        sample_rate=sr,\n",
        "        n_mfcc=n_mfcc,\n",
        "        melkwargs={\n",
        "          'n_fft': n_fft,\n",
        "          'n_mels': n_mels,\n",
        "          'hop_length': hop_length,\n",
        "          'mel_scale': 'htk',\n",
        "        }\n",
        "    )\n",
        "    return mfcc_transform(waveform)\n",
        "\n",
        "IRMAS_ds.full_reset()\n",
        "\n",
        "print(\"     View of Working SpectroGram\")\n",
        "item = IRMAS_ds[0]\n",
        "print(item[1])\n",
        "print(item[0].shape)\n",
        "plot_spectrogram(item[0][0])\n",
        "\n",
        "file_name = IRMAS_ds.get_first_file()\n",
        "\n",
        "\n",
        "print(\"\\n   View of full spectroGram\")\n",
        "wf, sr = get_wf_sr(file_name)\n",
        "mfcc = convert_waveform_to_mfcc(wf, sr)\n",
        "plot_spectrogram(mfcc[0])\n",
        "\n",
        "\n",
        "# for instrument in IRMAS_ds.train_data_dict:\n",
        "#   # sample = cycle.next()\n",
        "#   print(instrument)\n",
        "#   file_name = IRMAS_ds.train_data_dict[instrument].next()\n",
        "#   wf, sr = get_wf_sr(file_name)\n",
        "#   mfcc = convert_waveform_to_mfcc(wf, sr)\n",
        "#   plot_spectrogram(mfcc[0])\n",
        "\n"
      ]
    },
    {
      "cell_type": "code",
      "execution_count": null,
      "metadata": {
        "id": "OIK24SuZYEwS"
      },
      "outputs": [],
      "source": [
        "# #verify there is data in the the test and train loaders, commented out as it takes a long time to run\n",
        "\n",
        "# data, label = next(iter(train_dsLoader_list[0]))\n",
        "# print(f\"train targets: {label}, {data.shape}, {len(data)}\")\n",
        "\n",
        "# data, label = next(iter(val_dsLoader_list[0]))\n",
        "# print(f\"val targets: {label}, {data.shape}, {len(data)}\")\n",
        "\n",
        "# data, label = next(iter(test_dsLoader_list[0]))\n",
        "# print(f\"test targets: {label}, {data.shape}, {len(data)}\")\n",
        "\n"
      ]
    },
    {
      "cell_type": "markdown",
      "metadata": {
        "id": "Rrt4Jthi3q-t"
      },
      "source": [
        "output_length = (input_length + 2 * padding - dilation * (kernel_size -1) - 1) / stride + 1\n",
        "\n",
        "output_shape = (batch_size, out_channels, output_length)\n"
      ]
    },
    {
      "cell_type": "code",
      "source": [
        "class LinearNet(nn.Module):\n",
        "    def __init__(self,\n",
        "                 ninputs= 780,   # number of inputs (30x30)\n",
        "                 nhidden=100,   # number of nodes in hidden layer\n",
        "                 nout=11,       # output\n",
        "                 nLayers = 2,\n",
        "                 channels = 1,\n",
        "                 dropout_prob=0.5\n",
        "                ):\n",
        "        super().__init__()\n",
        "        layers = [nn.Linear(ninputs, nhidden), nn.ReLU()]\n",
        "\n",
        "        for i in range(nLayers):\n",
        "          layers += [nn.Linear(nhidden, nhidden), nn.ReLU()]\n",
        "\n",
        "        layers += [nn.Linear(nhidden, nout, bias=False)]\n",
        "\n",
        "        self.net = nn.Sequential(*layers)\n",
        "\n",
        "    def forward(self, x):\n",
        "        b, c, h, w = x.shape\n",
        "        x = x.view(b, -1) # Flatten image\n",
        "        x = self.net(x)\n",
        "        x = F.softmax(x, dim=1)\n",
        "        return x\n"
      ],
      "metadata": {
        "id": "bAEDHRXHS-xu"
      },
      "execution_count": null,
      "outputs": []
    },
    {
      "cell_type": "code",
      "source": [
        "class CNN(nn.Module):\n",
        "    def __init__(self, num_classes, dropout_prob=0.5):\n",
        "        super(CNN, self).__init__()\n",
        "        self.conv1 = nn.Conv2d(1, 32, kernel_size=3, stride=1, padding=1)\n",
        "        self.pool1 = nn.MaxPool2d(kernel_size=2, stride=2)\n",
        "        self.conv2 = nn.Conv2d(32, 64, kernel_size=3, stride=1, padding=1)\n",
        "        self.pool2 = nn.MaxPool2d(kernel_size=2, stride=2)\n",
        "        self.fc1 = nn.Linear(64*7*6, 128)  # update the number of units to 64*7*6\n",
        "        self.fc2 = nn.Linear(128, num_classes)\n",
        "        self.dropout = nn.Dropout(dropout_prob)\n",
        "\n",
        "    def forward(self, x):\n",
        "        x = self.pool1(torch.relu(self.conv1(x)))\n",
        "        x = self.pool2(torch.relu(self.conv2(x)))\n",
        "        x = x.view(-1, 64*7*6)  # update the shape of the tensor\n",
        "        x = torch.relu(self.fc1(x))\n",
        "        x = self.dropout(x)\n",
        "        x = self.fc2(x)\n",
        "        return x\n"
      ],
      "metadata": {
        "id": "vWwy2-HuUjp4"
      },
      "execution_count": null,
      "outputs": []
    },
    {
      "cell_type": "code",
      "execution_count": null,
      "metadata": {
        "id": "Pxb4yaEsadJ8"
      },
      "outputs": [],
      "source": [
        "class ResBlock(nn.Module):\n",
        "    def __init__(self, inChannels, outChannels, stride=1, downsample=None):\n",
        "        super(ResBlock, self).__init__()\n",
        "        self.conv1 = nn.Conv2d(inChannels,\n",
        "                               outChannels,\n",
        "                               kernel_size=3,\n",
        "                               stride=stride,\n",
        "                               padding=1,\n",
        "                               bias=False)\n",
        "        self.bn = nn.BatchNorm2d(outChannels)\n",
        "        self.relu = nn.ReLU(inplace=True)\n",
        "        self.conv2 = nn.Conv2d(outChannels, outChannels, kernel_size=3, stride=1,\n",
        "                               padding=1, bias=False)\n",
        "        self.downsample = downsample\n",
        "\n",
        "\n",
        "    def forward(self, x):\n",
        "        identity = x\n",
        "\n",
        "        out = self.conv1(x)\n",
        "        out = self.bn(out)\n",
        "        out = self.relu(out)\n",
        "\n",
        "        out = self.conv2(out)\n",
        "        out = self.bn(out)\n",
        "\n",
        "        if self.downsample is not None:\n",
        "            identity = self.downsample(x)\n",
        "\n",
        "        out += identity\n",
        "        out = self.relu(out)\n",
        "\n",
        "        return out"
      ]
    },
    {
      "cell_type": "code",
      "source": [
        "class ResNet(nn.Module):\n",
        "    def __init__(self, block, layers, num_classes=11, dropout_prob=0.5):\n",
        "        super(ResNet, self).__init__()\n",
        "        self.inChannels = 64\n",
        "        self.conv1 = nn.Conv2d(1, 64, kernel_size=7, stride=2, padding=3, bias=False)\n",
        "        self.bn = nn.BatchNorm2d(64)\n",
        "        self.relu = nn.ReLU(inplace=True)\n",
        "        self.maxpool = nn.MaxPool2d(kernel_size=3, stride=2, padding=1)\n",
        "        self.layer1 = self._make_layer(block, 64, layers[0])\n",
        "        self.layer2 = self._make_layer(block, 128, layers[1], stride=2)\n",
        "        self.layer3 = self._make_layer(block, 256, layers[2], stride=2)\n",
        "        self.layer4 = self._make_layer(block, 512, layers[3], stride=2)\n",
        "        self.avgpool = nn.AdaptiveAvgPool2d((1, 1))\n",
        "        self.dropout = nn.Dropout(p=dropout_prob)\n",
        "        self.fc = nn.Linear(512, num_classes)\n",
        "\n",
        "    def _make_layer(self, block, outChannels, blocks, stride=1):\n",
        "        downsample = None\n",
        "        if stride != 1 or self.inChannels != outChannels:\n",
        "            downsample = nn.Sequential(\n",
        "                nn.Conv2d(self.inChannels, outChannels, kernel_size=1, stride=stride, bias=False),\n",
        "                nn.BatchNorm2d(outChannels),\n",
        "            )\n",
        "\n",
        "        layers = []\n",
        "        layers.append(block(self.inChannels, outChannels, stride, downsample))\n",
        "        self.inChannels = outChannels\n",
        "        for i in range(1, blocks):\n",
        "            layers.append(block(self.inChannels, outChannels))\n",
        "\n",
        "        return nn.Sequential(*layers)\n",
        "\n",
        "    def forward(self, x):\n",
        "        x = self.conv1(x)\n",
        "        x = self.bn(x)\n",
        "        x = self.relu(x)\n",
        "        x = self.maxpool(x)\n",
        "\n",
        "        x = self.layer1(x)\n",
        "        x = self.layer2(x)\n",
        "        x = self.layer3(x)\n",
        "        x = self.layer4(x)\n",
        "\n",
        "        x = self.avgpool(x)\n",
        "        x = x.view(x.size(0), -1)\n",
        "        x = self.dropout(x)\n",
        "        x = self.fc(x)\n",
        "\n",
        "        return x\n"
      ],
      "metadata": {
        "id": "f_hHpQXouYjM"
      },
      "execution_count": null,
      "outputs": []
    },
    {
      "cell_type": "code",
      "execution_count": null,
      "metadata": {
        "id": "sjS__CwAqrqc"
      },
      "outputs": [],
      "source": [
        "import time\n",
        "import matplotlib.pyplot as plt\n",
        "from tqdm import tqdm # This is optional but useful\n",
        "import gc\n",
        "\n",
        "CUDA_LAUNCH_BLOCKING=1\n",
        "\n",
        "os.environ['CUDA_LAUNCH_BLOCKING'] = '1'\n",
        "\n",
        "\n",
        "\n",
        "class Trainer():\n",
        "    def __init__(self, model, dataset, num_splits= 20, num_epochs= 10):\n",
        "        #hyper Parameters\n",
        "        self.num_epochs = num_epochs\n",
        "        self.lr = .001\n",
        "        self.batch_size = 512\n",
        "        self.num_splits = num_splits\n",
        "        self.train_list, self.val_list, self.test_list, self.dataset_copies = split_samples(IRMAS_ds,\n",
        "                                                                                            num_splits = self.num_splits,\n",
        "                                                                                            batch_size= self.batch_size)\n",
        "\n",
        "        self.dataset = dataset\n",
        "        self.total_loss = []\n",
        "        self.total_val_loss = []\n",
        "\n",
        "        self.num_labels = dataset.get_number_of_labels()\n",
        "        self.num_channels = 0\n",
        "        self.num_frames = 0\n",
        "        self.num_features =  0\n",
        "        self.get_data_info()\n",
        "        self.model = model\n",
        "        #self.model = model(ResBlock, [3,4,6,3], num_classes= num_labels).to(device)\n",
        "        self.criterion = nn.CrossEntropyLoss()\n",
        "        self.optimizer = torch.optim.SGD(self.model.parameters(), lr=self.lr, weight_decay= .001, momentum= .09)\n",
        "        #weight decay is done to prevent overfitting, it does this by adding a penalty to the loss function to make it have smaller values\n",
        "        #momentum helps smooth out the update process and make learning happen quicker\n",
        "\n",
        "    def get_data_info(self):\n",
        "        extract_mfcc_tensor, label = self.dataset[0]\n",
        "        self.num_channels, self.num_frames, self.num_features = extract_mfcc_tensor.shape\n",
        "\n",
        "    def train_over_partition(self, partition_num):\n",
        "        if partition_num > self.num_splits or partition_num < 0:\n",
        "            print(f\"num_partition must be >=0 and  < {self.num_splits}\")\n",
        "        train_loader = self.train_list[partition_num]\n",
        "        valid_loader = self.val_list[partition_num]\n",
        "        test_loader = self.test_list[partition_num]\n",
        "\n",
        "        self.model.train()\n",
        "        loss_history = []\n",
        "        val_loss_history = []\n",
        "        loss = torch.Tensor([0])\n",
        "\n",
        "        start_time = time.time() # Start time\n",
        "\n",
        "        for epoch in tqdm(range(self.num_epochs), desc=f\"Epoch\", unit=\"epoch\", disable=False):\n",
        "            prev_val_loader = None\n",
        "            for (images, labels) in tqdm(train_loader, desc=\"iteration\", unit=\"%\", disable=True):\n",
        "                self.optimizer.zero_grad(set_to_none=True)\n",
        "                images = images.to(device)\n",
        "                labels = labels.to(device)\n",
        "                outputs = self.model(images)\n",
        "                loss = self.criterion(outputs, labels)\n",
        "                loss.backward()\n",
        "                self.optimizer.step()\n",
        "                loss_history.append(loss.item())\n",
        "                del images, labels, outputs\n",
        "                torch.cuda.empty_cache()\n",
        "                gc.collect()\n",
        "            if prev_val_loader != None:\n",
        "                for (images, labels) in tqdm(prev_val_loader, desc=\"iteration\", unit=\"%\", disable=True):\n",
        "                    self.optimizer.zero_grad(set_to_none=True)\n",
        "                    images = images.to(device)\n",
        "                    labels = labels.to(device)\n",
        "                    outputs = self.model(images)\n",
        "                    loss = self.criterion(outputs, labels)\n",
        "                    loss.backward()\n",
        "                    self.optimizer.step()\n",
        "                    loss_history.append(loss.item())\n",
        "                    del images, labels, outputs\n",
        "                    torch.cuda.empty_cache()\n",
        "                    gc.collect()\n",
        "            # Validation loop\n",
        "            self.model.eval()\n",
        "            with torch.no_grad():\n",
        "                for (images, labels) in valid_loader:\n",
        "                    images = images.to(device)\n",
        "                    labels = labels.to(device)\n",
        "                    outputs = self.model(images)\n",
        "                    val_loss = self.criterion(outputs, labels)\n",
        "                    val_loss_history.append(val_loss.item())\n",
        "                    del images, labels, outputs\n",
        "                    torch.cuda.empty_cache()\n",
        "                    gc.collect()\n",
        "            self.model.train()\n",
        "            # Print epoch and losses\n",
        "            avg_train_loss = sum(loss_history) / len(loss_history)\n",
        "            avg_val_loss = sum(val_loss_history) / len(val_loss_history)\n",
        "            print(f\"Epoch {epoch}: train_loss: {avg_train_loss:.5f}, val_loss: {avg_val_loss:.5f}\")\n",
        "        prev_val_loader = valid_loader\n",
        "        end_time = time.time() # End time\n",
        "        print(f\"Total training time: {(end_time - start_time) / 60:.2f} minutes\")\n",
        "\n",
        "        self.total_loss.extend(loss_history)\n",
        "        self.total_val_loss.extend(val_loss_history)\n",
        "        plt.plot(self.total_loss, label='Training set')\n",
        "        plt.plot(self.total_val_loss, label='Validation set')\n",
        "        plt.xlabel('Epoch')\n",
        "        plt.ylabel('Loss')\n",
        "        plt.legend()\n",
        "        plt.show()\n",
        "\n",
        "        correct = 0\n",
        "        total = 0\n",
        "        with torch.no_grad():\n",
        "          for data in self.test_list[partition_num]:\n",
        "              inputs, labels = data\n",
        "              inputs = inputs.to(device)\n",
        "              labels = labels.to(device)\n",
        "              outputs = self.model(inputs)\n",
        "              _, predicted = torch.max(outputs.data, 1)\n",
        "              total += labels.size(0)\n",
        "              correct += (predicted == labels).sum().item()\n",
        "        print(f\"Accuracy of the network on the test set: {round((100 * correct / total), 2)}%\\n\")\n",
        "\n",
        "    def only_test(self):\n",
        "        correct = 0\n",
        "        total = 0\n",
        "        with torch.no_grad():\n",
        "          for test_partition in self.test_list:\n",
        "            for data in test_partition:\n",
        "                inputs, labels = data\n",
        "                inputs = inputs.to(device)\n",
        "                labels = labels.to(device)\n",
        "                outputs = self.model(inputs)\n",
        "                _, predicted = torch.max(outputs.data, 1)\n",
        "                total += labels.size(0)\n",
        "                correct += (predicted == labels).sum().item()\n",
        "        print(f\"Accuracy of the network on the test set: {round((100 * correct / total), 2)}%\\n\")\n",
        "\n",
        "\n",
        "    def train_over_range(self, start, end):\n",
        "        for i in range(start, end + 1):\n",
        "          print(f\"\\npartition: {i}/{end}\\n\")\n",
        "          self.train_over_partition(i)\n",
        "\n",
        "\n",
        "\n"
      ]
    },
    {
      "cell_type": "code",
      "source": [
        "# model = LinearNet().to(device)\n",
        "# trainer = Trainer(model, IRMAS_ds, num_splits= 5, epochs= 2)\n",
        "# trainer.train_over_range(0, 4)\n"
      ],
      "metadata": {
        "id": "2G1zTbH3RwEu"
      },
      "execution_count": null,
      "outputs": []
    },
    {
      "cell_type": "code",
      "source": [
        "# model = CNN(11).to(device)\n",
        "# trainer = Trainer(model, IRMAS_ds, num_splits= 5, num_epochs= 10)\n",
        "# trainer.train_over_range(0, 4) #error here, original had set to 5, but that would be 6 partitions"
      ],
      "metadata": {
        "id": "7VyA1fVrRpPb"
      },
      "execution_count": null,
      "outputs": []
    },
    {
      "cell_type": "code",
      "source": [
        "model = ResNet(ResBlock, [3, 4, 6, 3]).to(device)\n",
        "labels = [\"sax\", \"tru\", \"vio\", \"voi\", \"cel\", \"cla\", \"flu\", \"gac\", \"gel\", \"org\", \"pia\"]\n",
        "\n",
        "train_labels = []\n",
        "for label in labels:\n",
        "    train_labels.append(label)\n",
        "    if len(train_labels) == 2:\n",
        "        IRMAS_ds = IRMASDataset(\"IRMAS-TrainingData\", included_labels= train_labels)\n",
        "        temp_trainer = Trainer(model, IRMAS_ds, num_splits= 10, num_epochs= 10)\n",
        "        temp_trainer.train_over_partition(0)\n",
        "        train_labels.clear()\n"
      ],
      "metadata": {
        "id": "1cT1texxR72E",
        "colab": {
          "base_uri": "https://localhost:8080/",
          "height": 1000
        },
        "outputId": "bf0247fd-66ff-471e-ec50-8f166b5b5e6b"
      },
      "execution_count": null,
      "outputs": [
        {
          "output_type": "stream",
          "name": "stdout",
          "text": [
            "split 12030 inputs by 10 splits: train size= 769, validation size= 192, test size= 240\n"
          ]
        },
        {
          "output_type": "stream",
          "name": "stderr",
          "text": [
            "Epoch:  10%|█         | 1/10 [00:08<01:14,  8.29s/epoch]"
          ]
        },
        {
          "output_type": "stream",
          "name": "stdout",
          "text": [
            "Epoch 0: train_loss: 3.93713, val_loss: 2.45236\n"
          ]
        },
        {
          "output_type": "stream",
          "name": "stderr",
          "text": [
            "\rEpoch:  20%|██        | 2/10 [00:11<00:43,  5.49s/epoch]"
          ]
        },
        {
          "output_type": "stream",
          "name": "stdout",
          "text": [
            "Epoch 1: train_loss: 3.46799, val_loss: 2.44089\n"
          ]
        },
        {
          "output_type": "stream",
          "name": "stderr",
          "text": [
            "\rEpoch:  30%|███       | 3/10 [00:15<00:31,  4.50s/epoch]"
          ]
        },
        {
          "output_type": "stream",
          "name": "stdout",
          "text": [
            "Epoch 2: train_loss: 3.08301, val_loss: 2.40730\n"
          ]
        },
        {
          "output_type": "stream",
          "name": "stderr",
          "text": [
            "\rEpoch:  40%|████      | 4/10 [00:18<00:24,  4.15s/epoch]"
          ]
        },
        {
          "output_type": "stream",
          "name": "stdout",
          "text": [
            "Epoch 3: train_loss: 2.73746, val_loss: 2.35892\n"
          ]
        },
        {
          "output_type": "stream",
          "name": "stderr",
          "text": [
            "\rEpoch:  50%|█████     | 5/10 [00:22<00:19,  3.90s/epoch]"
          ]
        },
        {
          "output_type": "stream",
          "name": "stdout",
          "text": [
            "Epoch 4: train_loss: 2.43396, val_loss: 2.30376\n"
          ]
        },
        {
          "output_type": "stream",
          "name": "stderr",
          "text": [
            "\rEpoch:  60%|██████    | 6/10 [00:25<00:15,  3.86s/epoch]"
          ]
        },
        {
          "output_type": "stream",
          "name": "stdout",
          "text": [
            "Epoch 5: train_loss: 2.16968, val_loss: 2.24804\n"
          ]
        },
        {
          "output_type": "stream",
          "name": "stderr",
          "text": [
            "\rEpoch:  70%|███████   | 7/10 [00:29<00:11,  3.79s/epoch]"
          ]
        },
        {
          "output_type": "stream",
          "name": "stdout",
          "text": [
            "Epoch 6: train_loss: 1.95011, val_loss: 2.19473\n"
          ]
        },
        {
          "output_type": "stream",
          "name": "stderr",
          "text": [
            "\rEpoch:  80%|████████  | 8/10 [00:33<00:07,  3.68s/epoch]"
          ]
        },
        {
          "output_type": "stream",
          "name": "stdout",
          "text": [
            "Epoch 7: train_loss: 1.76693, val_loss: 2.14526\n"
          ]
        },
        {
          "output_type": "stream",
          "name": "stderr",
          "text": [
            "\rEpoch:  90%|█████████ | 9/10 [00:36<00:03,  3.60s/epoch]"
          ]
        },
        {
          "output_type": "stream",
          "name": "stdout",
          "text": [
            "Epoch 8: train_loss: 1.60941, val_loss: 2.09757\n"
          ]
        },
        {
          "output_type": "stream",
          "name": "stderr",
          "text": [
            "Epoch: 100%|██████████| 10/10 [00:40<00:00,  4.08s/epoch]"
          ]
        },
        {
          "output_type": "stream",
          "name": "stdout",
          "text": [
            "Epoch 9: train_loss: 1.47575, val_loss: 2.05368\n",
            "Total training time: 0.68 minutes\n"
          ]
        },
        {
          "output_type": "stream",
          "name": "stderr",
          "text": [
            "\n"
          ]
        },
        {
          "output_type": "display_data",
          "data": {
            "text/plain": [
              "<Figure size 432x288 with 1 Axes>"
            ],
            "image/png": "[encoded data removed]"
          },
          "metadata": {
            "needs_background": "light"
          }
        },
        {
          "output_type": "stream",
          "name": "stdout",
          "text": [
            "Accuracy of the network on the test set: 60.83%\n",
            "\n",
            "split 13580 inputs by 10 splits: train size= 869, validation size= 217, test size= 271\n"
          ]
        },
        {
          "output_type": "stream",
          "name": "stderr",
          "text": [
            "Epoch:  10%|█         | 1/10 [00:30<04:32, 30.22s/epoch]"
          ]
        },
        {
          "output_type": "stream",
          "name": "stdout",
          "text": [
            "Epoch 0: train_loss: 1.18204, val_loss: 1.60714\n"
          ]
        },
        {
          "output_type": "stream",
          "name": "stderr",
          "text": [
            "\rEpoch:  20%|██        | 2/10 [00:33<01:57, 14.63s/epoch]"
          ]
        },
        {
          "output_type": "stream",
          "name": "stdout",
          "text": [
            "Epoch 1: train_loss: 0.87727, val_loss: 1.56985\n"
          ]
        },
        {
          "output_type": "stream",
          "name": "stderr",
          "text": [
            "\rEpoch:  30%|███       | 3/10 [00:38<01:10, 10.03s/epoch]"
          ]
        },
        {
          "output_type": "stream",
          "name": "stdout",
          "text": [
            "Epoch 2: train_loss: 0.70375, val_loss: 1.54313\n"
          ]
        },
        {
          "output_type": "stream",
          "name": "stderr",
          "text": [
            "\rEpoch:  40%|████      | 4/10 [00:42<00:45,  7.54s/epoch]"
          ]
        },
        {
          "output_type": "stream",
          "name": "stdout",
          "text": [
            "Epoch 3: train_loss: 0.59370, val_loss: 1.52614\n"
          ]
        },
        {
          "output_type": "stream",
          "name": "stderr",
          "text": [
            "\rEpoch:  50%|█████     | 5/10 [00:45<00:30,  6.15s/epoch]"
          ]
        },
        {
          "output_type": "stream",
          "name": "stdout",
          "text": [
            "Epoch 4: train_loss: 0.51701, val_loss: 1.50927\n"
          ]
        },
        {
          "output_type": "stream",
          "name": "stderr",
          "text": [
            "\rEpoch:  60%|██████    | 6/10 [00:50<00:22,  5.62s/epoch]"
          ]
        },
        {
          "output_type": "stream",
          "name": "stdout",
          "text": [
            "Epoch 5: train_loss: 0.45331, val_loss: 1.49089\n"
          ]
        },
        {
          "output_type": "stream",
          "name": "stderr",
          "text": [
            "\rEpoch:  70%|███████   | 7/10 [00:54<00:14,  4.95s/epoch]"
          ]
        },
        {
          "output_type": "stream",
          "name": "stdout",
          "text": [
            "Epoch 6: train_loss: 0.40300, val_loss: 1.47403\n"
          ]
        },
        {
          "output_type": "stream",
          "name": "stderr",
          "text": [
            "\rEpoch:  80%|████████  | 8/10 [00:57<00:09,  4.55s/epoch]"
          ]
        },
        {
          "output_type": "stream",
          "name": "stdout",
          "text": [
            "Epoch 7: train_loss: 0.36371, val_loss: 1.45848\n"
          ]
        },
        {
          "output_type": "stream",
          "name": "stderr",
          "text": [
            "\rEpoch:  90%|█████████ | 9/10 [01:02<00:04,  4.49s/epoch]"
          ]
        },
        {
          "output_type": "stream",
          "name": "stdout",
          "text": [
            "Epoch 8: train_loss: 0.33099, val_loss: 1.44403\n"
          ]
        },
        {
          "output_type": "stream",
          "name": "stderr",
          "text": [
            "Epoch: 100%|██████████| 10/10 [01:05<00:00,  6.58s/epoch]"
          ]
        },
        {
          "output_type": "stream",
          "name": "stdout",
          "text": [
            "Epoch 9: train_loss: 0.30415, val_loss: 1.43123\n",
            "Total training time: 1.10 minutes\n"
          ]
        },
        {
          "output_type": "stream",
          "name": "stderr",
          "text": [
            "\n"
          ]
        },
        {
          "output_type": "display_data",
          "data": {
            "text/plain": [
              "<Figure size 432x288 with 1 Axes>"
            ],
            "image/png": "[encoded data removed]"
          },
          "metadata": {
            "needs_background": "light"
          }
        },
        {
          "output_type": "stream",
          "name": "stdout",
          "text": [
            "Accuracy of the network on the test set: 74.91%\n",
            "\n",
            "split 8930 inputs by 10 splits: train size= 571, validation size= 142, test size= 178\n"
          ]
        },
        {
          "output_type": "stream",
          "name": "stderr",
          "text": [
            "Epoch:  10%|█         | 1/10 [00:22<03:20, 22.29s/epoch]"
          ]
        },
        {
          "output_type": "stream",
          "name": "stdout",
          "text": [
            "Epoch 0: train_loss: 1.71470, val_loss: 1.75818\n"
          ]
        },
        {
          "output_type": "stream",
          "name": "stderr",
          "text": [
            "\rEpoch:  20%|██        | 2/10 [00:25<01:29, 11.23s/epoch]"
          ]
        },
        {
          "output_type": "stream",
          "name": "stdout",
          "text": [
            "Epoch 1: train_loss: 1.29509, val_loss: 1.54932\n"
          ]
        },
        {
          "output_type": "stream",
          "name": "stderr",
          "text": [
            "\rEpoch:  30%|███       | 3/10 [00:28<00:51,  7.37s/epoch]"
          ]
        },
        {
          "output_type": "stream",
          "name": "stdout",
          "text": [
            "Epoch 2: train_loss: 1.07561, val_loss: 1.43062\n"
          ]
        },
        {
          "output_type": "stream",
          "name": "stderr",
          "text": [
            "\rEpoch:  40%|████      | 4/10 [00:31<00:33,  5.53s/epoch]"
          ]
        },
        {
          "output_type": "stream",
          "name": "stdout",
          "text": [
            "Epoch 3: train_loss: 0.89871, val_loss: 1.37308\n"
          ]
        },
        {
          "output_type": "stream",
          "name": "stderr",
          "text": [
            "\rEpoch:  50%|█████     | 5/10 [00:33<00:22,  4.51s/epoch]"
          ]
        },
        {
          "output_type": "stream",
          "name": "stdout",
          "text": [
            "Epoch 4: train_loss: 0.77370, val_loss: 1.33315\n"
          ]
        },
        {
          "output_type": "stream",
          "name": "stderr",
          "text": [
            "\rEpoch:  60%|██████    | 6/10 [00:37<00:16,  4.05s/epoch]"
          ]
        },
        {
          "output_type": "stream",
          "name": "stdout",
          "text": [
            "Epoch 5: train_loss: 0.67494, val_loss: 1.30576\n"
          ]
        },
        {
          "output_type": "stream",
          "name": "stderr",
          "text": [
            "\rEpoch:  70%|███████   | 7/10 [00:40<00:11,  3.69s/epoch]"
          ]
        },
        {
          "output_type": "stream",
          "name": "stdout",
          "text": [
            "Epoch 6: train_loss: 0.59810, val_loss: 1.28552\n"
          ]
        },
        {
          "output_type": "stream",
          "name": "stderr",
          "text": [
            "\rEpoch:  80%|████████  | 8/10 [00:42<00:06,  3.37s/epoch]"
          ]
        },
        {
          "output_type": "stream",
          "name": "stdout",
          "text": [
            "Epoch 7: train_loss: 0.53711, val_loss: 1.27063\n"
          ]
        },
        {
          "output_type": "stream",
          "name": "stderr",
          "text": [
            "\rEpoch:  90%|█████████ | 9/10 [00:45<00:03,  3.17s/epoch]"
          ]
        },
        {
          "output_type": "stream",
          "name": "stdout",
          "text": [
            "Epoch 8: train_loss: 0.48745, val_loss: 1.25902\n"
          ]
        },
        {
          "output_type": "stream",
          "name": "stderr",
          "text": [
            "Epoch: 100%|██████████| 10/10 [00:48<00:00,  4.84s/epoch]"
          ]
        },
        {
          "output_type": "stream",
          "name": "stdout",
          "text": [
            "Epoch 9: train_loss: 0.44576, val_loss: 1.24799\n",
            "Total training time: 0.81 minutes\n"
          ]
        },
        {
          "output_type": "stream",
          "name": "stderr",
          "text": [
            "\n"
          ]
        },
        {
          "output_type": "display_data",
          "data": {
            "text/plain": [
              "<Figure size 432x288 with 1 Axes>"
            ],
            "image/png": "[encoded data removed]"
          },
          "metadata": {
            "needs_background": "light"
          }
        },
        {
          "output_type": "stream",
          "name": "stdout",
          "text": [
            "Accuracy of the network on the test set: 74.72%\n",
            "\n",
            "split 10880 inputs by 10 splits: train size= 696, validation size= 174, test size= 217\n"
          ]
        },
        {
          "output_type": "stream",
          "name": "stderr",
          "text": [
            "Epoch:  10%|█         | 1/10 [00:29<04:23, 29.31s/epoch]"
          ]
        },
        {
          "output_type": "stream",
          "name": "stdout",
          "text": [
            "Epoch 0: train_loss: 1.58068, val_loss: 1.04712\n"
          ]
        },
        {
          "output_type": "stream",
          "name": "stderr",
          "text": [
            "\rEpoch:  20%|██        | 2/10 [00:32<01:53, 14.13s/epoch]"
          ]
        },
        {
          "output_type": "stream",
          "name": "stdout",
          "text": [
            "Epoch 1: train_loss: 0.98931, val_loss: 1.03084\n"
          ]
        },
        {
          "output_type": "stream",
          "name": "stderr",
          "text": [
            "\rEpoch:  30%|███       | 3/10 [00:36<01:04,  9.21s/epoch]"
          ]
        },
        {
          "output_type": "stream",
          "name": "stdout",
          "text": [
            "Epoch 2: train_loss: 0.73727, val_loss: 1.04196\n"
          ]
        },
        {
          "output_type": "stream",
          "name": "stderr",
          "text": [
            "\rEpoch:  40%|████      | 4/10 [00:39<00:40,  6.76s/epoch]"
          ]
        },
        {
          "output_type": "stream",
          "name": "stdout",
          "text": [
            "Epoch 3: train_loss: 0.58875, val_loss: 1.05541\n"
          ]
        },
        {
          "output_type": "stream",
          "name": "stderr",
          "text": [
            "\rEpoch:  50%|█████     | 5/10 [00:42<00:27,  5.53s/epoch]"
          ]
        },
        {
          "output_type": "stream",
          "name": "stdout",
          "text": [
            "Epoch 4: train_loss: 0.49037, val_loss: 1.07251\n"
          ]
        },
        {
          "output_type": "stream",
          "name": "stderr",
          "text": [
            "\rEpoch:  60%|██████    | 6/10 [00:46<00:19,  4.89s/epoch]"
          ]
        },
        {
          "output_type": "stream",
          "name": "stdout",
          "text": [
            "Epoch 5: train_loss: 0.42013, val_loss: 1.08999\n"
          ]
        },
        {
          "output_type": "stream",
          "name": "stderr",
          "text": [
            "\rEpoch:  70%|███████   | 7/10 [00:49<00:13,  4.49s/epoch]"
          ]
        },
        {
          "output_type": "stream",
          "name": "stdout",
          "text": [
            "Epoch 6: train_loss: 0.36802, val_loss: 1.10444\n"
          ]
        },
        {
          "output_type": "stream",
          "name": "stderr",
          "text": [
            "\rEpoch:  80%|████████  | 8/10 [00:53<00:08,  4.12s/epoch]"
          ]
        },
        {
          "output_type": "stream",
          "name": "stdout",
          "text": [
            "Epoch 7: train_loss: 0.32845, val_loss: 1.12110\n"
          ]
        },
        {
          "output_type": "stream",
          "name": "stderr",
          "text": [
            "\rEpoch:  90%|█████████ | 9/10 [00:56<00:03,  3.84s/epoch]"
          ]
        },
        {
          "output_type": "stream",
          "name": "stdout",
          "text": [
            "Epoch 8: train_loss: 0.29714, val_loss: 1.13492\n"
          ]
        },
        {
          "output_type": "stream",
          "name": "stderr",
          "text": [
            "Epoch: 100%|██████████| 10/10 [01:00<00:00,  6.03s/epoch]"
          ]
        },
        {
          "output_type": "stream",
          "name": "stdout",
          "text": [
            "Epoch 9: train_loss: 0.27103, val_loss: 1.14809\n",
            "Total training time: 1.01 minutes\n"
          ]
        },
        {
          "output_type": "stream",
          "name": "stderr",
          "text": [
            "\n"
          ]
        },
        {
          "output_type": "display_data",
          "data": {
            "text/plain": [
              "<Figure size 432x288 with 1 Axes>"
            ],
            "image/png": "[encoded data removed]"
          },
          "metadata": {
            "needs_background": "light"
          }
        },
        {
          "output_type": "stream",
          "name": "stdout",
          "text": [
            "Accuracy of the network on the test set: 80.18%\n",
            "\n",
            "split 14420 inputs by 10 splits: train size= 922, validation size= 230, test size= 288\n"
          ]
        },
        {
          "output_type": "stream",
          "name": "stderr",
          "text": [
            "Epoch:  10%|█         | 1/10 [00:32<04:55, 32.85s/epoch]"
          ]
        },
        {
          "output_type": "stream",
          "name": "stdout",
          "text": [
            "Epoch 0: train_loss: 1.27958, val_loss: 1.22055\n"
          ]
        },
        {
          "output_type": "stream",
          "name": "stderr",
          "text": [
            "\rEpoch:  20%|██        | 2/10 [00:36<02:07, 15.91s/epoch]"
          ]
        },
        {
          "output_type": "stream",
          "name": "stdout",
          "text": [
            "Epoch 1: train_loss: 0.81551, val_loss: 1.16891\n"
          ]
        },
        {
          "output_type": "stream",
          "name": "stderr",
          "text": [
            "\rEpoch:  30%|███       | 3/10 [00:41<01:13, 10.52s/epoch]"
          ]
        },
        {
          "output_type": "stream",
          "name": "stdout",
          "text": [
            "Epoch 2: train_loss: 0.60453, val_loss: 1.14398\n"
          ]
        },
        {
          "output_type": "stream",
          "name": "stderr",
          "text": [
            "\rEpoch:  40%|████      | 4/10 [00:44<00:47,  7.88s/epoch]"
          ]
        },
        {
          "output_type": "stream",
          "name": "stdout",
          "text": [
            "Epoch 3: train_loss: 0.48234, val_loss: 1.13062\n"
          ]
        },
        {
          "output_type": "stream",
          "name": "stderr",
          "text": [
            "\rEpoch:  50%|█████     | 5/10 [00:48<00:32,  6.44s/epoch]"
          ]
        },
        {
          "output_type": "stream",
          "name": "stdout",
          "text": [
            "Epoch 4: train_loss: 0.40359, val_loss: 1.11523\n"
          ]
        },
        {
          "output_type": "stream",
          "name": "stderr",
          "text": [
            "\rEpoch:  60%|██████    | 6/10 [00:52<00:22,  5.60s/epoch]"
          ]
        },
        {
          "output_type": "stream",
          "name": "stdout",
          "text": [
            "Epoch 5: train_loss: 0.34833, val_loss: 1.10446\n"
          ]
        },
        {
          "output_type": "stream",
          "name": "stderr",
          "text": [
            "\rEpoch:  70%|███████   | 7/10 [00:57<00:15,  5.20s/epoch]"
          ]
        },
        {
          "output_type": "stream",
          "name": "stdout",
          "text": [
            "Epoch 6: train_loss: 0.30682, val_loss: 1.09713\n"
          ]
        },
        {
          "output_type": "stream",
          "name": "stderr",
          "text": [
            "\rEpoch:  80%|████████  | 8/10 [01:00<00:09,  4.77s/epoch]"
          ]
        },
        {
          "output_type": "stream",
          "name": "stdout",
          "text": [
            "Epoch 7: train_loss: 0.27410, val_loss: 1.09004\n"
          ]
        },
        {
          "output_type": "stream",
          "name": "stderr",
          "text": [
            "\rEpoch:  90%|█████████ | 9/10 [01:04<00:04,  4.54s/epoch]"
          ]
        },
        {
          "output_type": "stream",
          "name": "stdout",
          "text": [
            "Epoch 8: train_loss: 0.24811, val_loss: 1.08642\n"
          ]
        },
        {
          "output_type": "stream",
          "name": "stderr",
          "text": [
            "Epoch: 100%|██████████| 10/10 [01:09<00:00,  6.99s/epoch]"
          ]
        },
        {
          "output_type": "stream",
          "name": "stdout",
          "text": [
            "Epoch 9: train_loss: 0.22742, val_loss: 1.08296\n",
            "Total training time: 1.17 minutes\n"
          ]
        },
        {
          "output_type": "stream",
          "name": "stderr",
          "text": [
            "\n"
          ]
        },
        {
          "output_type": "display_data",
          "data": {
            "text/plain": [
              "<Figure size 432x288 with 1 Axes>"
            ],
            "image/png": "[encoded data removed]"
          },
          "metadata": {
            "needs_background": "light"
          }
        },
        {
          "output_type": "stream",
          "name": "stdout",
          "text": [
            "Accuracy of the network on the test set: 66.32%\n",
            "\n"
          ]
        }
      ]
    },
    {
      "cell_type": "code",
      "source": [
        "labels = [\"sax\", \"tru\", \"vio\", \"voi\", \"cel\", \"cla\", \"flu\", \"gac\", \"gel\", \"org\"] # no piano\n",
        "IRMAS_ds = IRMASDataset(\"IRMAS-TrainingData\", included_labels= labels)\n",
        "trainer = Trainer(model, IRMAS_ds, num_splits= 10, num_epochs= 10)\n",
        "trainer.only_test()"
      ],
      "metadata": {
        "colab": {
          "base_uri": "https://localhost:8080/"
        },
        "id": "1YjhEzXcw3pI",
        "outputId": "e474f258-7c08-4efe-ca29-82211c60d6c8"
      },
      "execution_count": null,
      "outputs": [
        {
          "output_type": "stream",
          "name": "stdout",
          "text": [
            "split 59840 inputs by 10 splits: train size= 3829, validation size= 957, test size= 1196\n",
            "Accuracy of the network on the test set: 8.69%\n",
            "\n"
          ]
        }
      ]
    }
  ],
  "metadata": {
    "accelerator": "GPU",
    "colab": {
      "machine_shape": "hm",
      "provenance": []
    },
    "gpuClass": "standard",
    "kernelspec": {
      "display_name": "Python 3",
      "name": "python3"
    },
    "language_info": {
      "name": "python"
    }
  },
  "nbformat": 4,
  "nbformat_minor": 0
}